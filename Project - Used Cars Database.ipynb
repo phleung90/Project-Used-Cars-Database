{
 "cells": [
  {
   "cell_type": "markdown",
   "metadata": {},
   "source": [
    "## Introduction "
   ]
  },
  {
   "cell_type": "markdown",
   "metadata": {},
   "source": [
    "In this guided project, we'll work with a dataset of used cars from eBay Kleinanzeigen, a classifieds section of the German eBay website, so as to answer the following question:*If someone wants to buy a second hand car in ebay, which brand would be better?*\n",
    "<br>\n",
    "<br>\n",
    "The dataset was originally scraped and uploaded to Kaggle. Because of the file size, we sampled 50,000 data points and aims to provide a overview analysis. \n",
    "<br>The datafield are as follows:"
   ]
  },
  {
   "cell_type": "markdown",
   "metadata": {},
   "source": [
    "- dateCrawled : when this ad was first crawled, all field-values are taken from this date\n",
    "- name : \"name\" of the car\n",
    "- seller : private or dealer\n",
    "- offerType\n",
    "- price : the price on the ad to sell the car\n",
    "- abtest\n",
    "- vehicleType\n",
    "- yearOfRegistration : at which year the car was first registered\n",
    "- gearbox\n",
    "- powerPS : power of the car in PS\n",
    "- model\n",
    "- kilometer : how many kilometers the car has driven\n",
    "- monthOfRegistration : at which month the car was first registered\n",
    "- fuelType\n",
    "- brand\n",
    "- notRepairedDamage : if the car has a damage which is not repaired yet\n",
    "- dateCreated : the date for which the ad at ebay was created\n",
    "- nrOfPictures : number of pictures in the ad (unfortunately this field contains everywhere a 0 and is thus useless (bug in crawler!) )\n",
    "- postalCode\n",
    "- lastSeenOnline : when the crawler saw this ad last online"
   ]
  },
  {
   "cell_type": "markdown",
   "metadata": {},
   "source": [
    "###  1. Import the relevant libraries and data "
   ]
  },
  {
   "cell_type": "code",
   "execution_count": 1,
   "metadata": {},
   "outputs": [
    {
     "name": "stdout",
     "output_type": "stream",
     "text": [
      "       dateCrawled                                               name  seller  \\\n",
      "0  3/26/2016 17:47                   Peugeot_807_160_NAVTECH_ON_BOARD  privat   \n",
      "1   4/4/2016 13:38         BMW_740i_4_4_Liter_HAMANN_UMBAU_Mega_Optik  privat   \n",
      "2  3/26/2016 18:57                         Volkswagen_Golf_1.6_United  privat   \n",
      "3  3/12/2016 16:58  Smart_smart_fortwo_coupe_softouch/F1/Klima/Pan...  privat   \n",
      "4   4/1/2016 14:38  Ford_Focus_1_6_Benzin_TÜV_neu_ist_sehr_gepfleg...  privat   \n",
      "\n",
      "  offerType    price   abtest vehicleType  yearOfRegistration    gearbox  \\\n",
      "0   Angebot  $5,000   control         bus                2004    manuell   \n",
      "1   Angebot  $8,500   control   limousine                1997  automatik   \n",
      "2   Angebot  $8,990      test   limousine                2009    manuell   \n",
      "3   Angebot  $4,350   control  kleinwagen                2007  automatik   \n",
      "4   Angebot  $1,350      test       kombi                2003    manuell   \n",
      "\n",
      "   powerPS   model   odometer  monthOfRegistration fuelType       brand  \\\n",
      "0      158  andere  150,000km                    3      lpg     peugeot   \n",
      "1      286     7er  150,000km                    6   benzin         bmw   \n",
      "2      102    golf   70,000km                    7   benzin  volkswagen   \n",
      "3       71  fortwo   70,000km                    6   benzin       smart   \n",
      "4        0   focus  150,000km                    7   benzin        ford   \n",
      "\n",
      "  notRepairedDamage     dateCreated  nrOfPictures  postalCode        lastSeen  \n",
      "0              nein  3/26/2016 0:00             0       79588   4/6/2016 6:45  \n",
      "1              nein   4/4/2016 0:00             0       71034  4/6/2016 14:45  \n",
      "2              nein  3/26/2016 0:00             0       35394  4/6/2016 20:15  \n",
      "3              nein  3/12/2016 0:00             0       33729  3/15/2016 3:16  \n",
      "4              nein   4/1/2016 0:00             0       39218  4/1/2016 14:38  \n"
     ]
    }
   ],
   "source": [
    "# Import the libraries \n",
    "import numpy as np \n",
    "import pandas as pd \n",
    "from csv import reader \n",
    "\n",
    "# Read the file \n",
    "autos = pd.read_csv('autos.csv',  encoding='latin_1')\n",
    "print(autos.head(5))"
   ]
  },
  {
   "cell_type": "markdown",
   "metadata": {},
   "source": [
    "### 2.Preliminary check of data "
   ]
  },
  {
   "cell_type": "markdown",
   "metadata": {},
   "source": [
    "After successfully importing the data, there are something that we need to check: \n",
    "- Rows and columns in the dataset \n",
    "- Variable types of each columns \n",
    "- Any NULL values included\n",
    "- Overview information for each columns"
   ]
  },
  {
   "cell_type": "markdown",
   "metadata": {},
   "source": [
    "First we can check the rows and columns in the dataset"
   ]
  },
  {
   "cell_type": "code",
   "execution_count": 2,
   "metadata": {},
   "outputs": [
    {
     "name": "stdout",
     "output_type": "stream",
     "text": [
      "(50000, 20)\n"
     ]
    }
   ],
   "source": [
    "print(autos.shape)"
   ]
  },
  {
   "cell_type": "markdown",
   "metadata": {},
   "source": [
    "Then the variable types"
   ]
  },
  {
   "cell_type": "code",
   "execution_count": 3,
   "metadata": {},
   "outputs": [
    {
     "name": "stdout",
     "output_type": "stream",
     "text": [
      "<class 'pandas.core.frame.DataFrame'>\n",
      "RangeIndex: 50000 entries, 0 to 49999\n",
      "Data columns (total 20 columns):\n",
      "dateCrawled            50000 non-null object\n",
      "name                   50000 non-null object\n",
      "seller                 50000 non-null object\n",
      "offerType              50000 non-null object\n",
      "price                  50000 non-null object\n",
      "abtest                 50000 non-null object\n",
      "vehicleType            44905 non-null object\n",
      "yearOfRegistration     50000 non-null int64\n",
      "gearbox                47320 non-null object\n",
      "powerPS                50000 non-null int64\n",
      "model                  47242 non-null object\n",
      "odometer               50000 non-null object\n",
      "monthOfRegistration    50000 non-null int64\n",
      "fuelType               45518 non-null object\n",
      "brand                  50000 non-null object\n",
      "notRepairedDamage      40171 non-null object\n",
      "dateCreated            50000 non-null object\n",
      "nrOfPictures           50000 non-null int64\n",
      "postalCode             50000 non-null int64\n",
      "lastSeen               50000 non-null object\n",
      "dtypes: int64(5), object(15)\n",
      "memory usage: 7.6+ MB\n",
      "None\n"
     ]
    }
   ],
   "source": [
    "print(autos.info())"
   ]
  },
  {
   "cell_type": "markdown",
   "metadata": {},
   "source": [
    "And to see if any NULL values included:"
   ]
  },
  {
   "cell_type": "code",
   "execution_count": 4,
   "metadata": {},
   "outputs": [
    {
     "name": "stdout",
     "output_type": "stream",
     "text": [
      "dateCrawled               0\n",
      "name                      0\n",
      "seller                    0\n",
      "offerType                 0\n",
      "price                     0\n",
      "abtest                    0\n",
      "vehicleType            5095\n",
      "yearOfRegistration        0\n",
      "gearbox                2680\n",
      "powerPS                   0\n",
      "model                  2758\n",
      "odometer                  0\n",
      "monthOfRegistration       0\n",
      "fuelType               4482\n",
      "brand                     0\n",
      "notRepairedDamage      9829\n",
      "dateCreated               0\n",
      "nrOfPictures              0\n",
      "postalCode                0\n",
      "lastSeen                  0\n",
      "dtype: int64\n"
     ]
    }
   ],
   "source": [
    "print(autos.isnull().sum(axis=0))"
   ]
  },
  {
   "cell_type": "markdown",
   "metadata": {},
   "source": [
    "Finally the overview information for each columns:"
   ]
  },
  {
   "cell_type": "code",
   "execution_count": 5,
   "metadata": {},
   "outputs": [
    {
     "data": {
      "text/html": [
       "<div>\n",
       "<style scoped>\n",
       "    .dataframe tbody tr th:only-of-type {\n",
       "        vertical-align: middle;\n",
       "    }\n",
       "\n",
       "    .dataframe tbody tr th {\n",
       "        vertical-align: top;\n",
       "    }\n",
       "\n",
       "    .dataframe thead th {\n",
       "        text-align: right;\n",
       "    }\n",
       "</style>\n",
       "<table border=\"1\" class=\"dataframe\">\n",
       "  <thead>\n",
       "    <tr style=\"text-align: right;\">\n",
       "      <th></th>\n",
       "      <th>dateCrawled</th>\n",
       "      <th>name</th>\n",
       "      <th>seller</th>\n",
       "      <th>offerType</th>\n",
       "      <th>price</th>\n",
       "      <th>abtest</th>\n",
       "      <th>vehicleType</th>\n",
       "      <th>yearOfRegistration</th>\n",
       "      <th>gearbox</th>\n",
       "      <th>powerPS</th>\n",
       "      <th>model</th>\n",
       "      <th>odometer</th>\n",
       "      <th>monthOfRegistration</th>\n",
       "      <th>fuelType</th>\n",
       "      <th>brand</th>\n",
       "      <th>notRepairedDamage</th>\n",
       "      <th>dateCreated</th>\n",
       "      <th>nrOfPictures</th>\n",
       "      <th>postalCode</th>\n",
       "      <th>lastSeen</th>\n",
       "    </tr>\n",
       "  </thead>\n",
       "  <tbody>\n",
       "    <tr>\n",
       "      <td>count</td>\n",
       "      <td>50000</td>\n",
       "      <td>50000</td>\n",
       "      <td>50000</td>\n",
       "      <td>50000</td>\n",
       "      <td>50000</td>\n",
       "      <td>50000</td>\n",
       "      <td>44905</td>\n",
       "      <td>50000.000000</td>\n",
       "      <td>47320</td>\n",
       "      <td>50000.000000</td>\n",
       "      <td>47242</td>\n",
       "      <td>50000</td>\n",
       "      <td>50000.000000</td>\n",
       "      <td>45518</td>\n",
       "      <td>50000</td>\n",
       "      <td>40171</td>\n",
       "      <td>50000</td>\n",
       "      <td>50000.0</td>\n",
       "      <td>50000.000000</td>\n",
       "      <td>50000</td>\n",
       "    </tr>\n",
       "    <tr>\n",
       "      <td>unique</td>\n",
       "      <td>12073</td>\n",
       "      <td>38754</td>\n",
       "      <td>2</td>\n",
       "      <td>2</td>\n",
       "      <td>2357</td>\n",
       "      <td>2</td>\n",
       "      <td>8</td>\n",
       "      <td>NaN</td>\n",
       "      <td>2</td>\n",
       "      <td>NaN</td>\n",
       "      <td>245</td>\n",
       "      <td>13</td>\n",
       "      <td>NaN</td>\n",
       "      <td>7</td>\n",
       "      <td>40</td>\n",
       "      <td>2</td>\n",
       "      <td>76</td>\n",
       "      <td>NaN</td>\n",
       "      <td>NaN</td>\n",
       "      <td>10432</td>\n",
       "    </tr>\n",
       "    <tr>\n",
       "      <td>top</td>\n",
       "      <td>3/28/2016 14:49</td>\n",
       "      <td>Ford_Fiesta</td>\n",
       "      <td>privat</td>\n",
       "      <td>Angebot</td>\n",
       "      <td>$0</td>\n",
       "      <td>test</td>\n",
       "      <td>limousine</td>\n",
       "      <td>NaN</td>\n",
       "      <td>manuell</td>\n",
       "      <td>NaN</td>\n",
       "      <td>golf</td>\n",
       "      <td>150,000km</td>\n",
       "      <td>NaN</td>\n",
       "      <td>benzin</td>\n",
       "      <td>volkswagen</td>\n",
       "      <td>nein</td>\n",
       "      <td>4/3/2016 0:00</td>\n",
       "      <td>NaN</td>\n",
       "      <td>NaN</td>\n",
       "      <td>4/6/2016 2:45</td>\n",
       "    </tr>\n",
       "    <tr>\n",
       "      <td>freq</td>\n",
       "      <td>15</td>\n",
       "      <td>78</td>\n",
       "      <td>49999</td>\n",
       "      <td>49999</td>\n",
       "      <td>1421</td>\n",
       "      <td>25756</td>\n",
       "      <td>12859</td>\n",
       "      <td>NaN</td>\n",
       "      <td>36993</td>\n",
       "      <td>NaN</td>\n",
       "      <td>4024</td>\n",
       "      <td>32424</td>\n",
       "      <td>NaN</td>\n",
       "      <td>30107</td>\n",
       "      <td>10687</td>\n",
       "      <td>35232</td>\n",
       "      <td>1946</td>\n",
       "      <td>NaN</td>\n",
       "      <td>NaN</td>\n",
       "      <td>112</td>\n",
       "    </tr>\n",
       "    <tr>\n",
       "      <td>mean</td>\n",
       "      <td>NaN</td>\n",
       "      <td>NaN</td>\n",
       "      <td>NaN</td>\n",
       "      <td>NaN</td>\n",
       "      <td>NaN</td>\n",
       "      <td>NaN</td>\n",
       "      <td>NaN</td>\n",
       "      <td>2005.073280</td>\n",
       "      <td>NaN</td>\n",
       "      <td>116.355920</td>\n",
       "      <td>NaN</td>\n",
       "      <td>NaN</td>\n",
       "      <td>5.723360</td>\n",
       "      <td>NaN</td>\n",
       "      <td>NaN</td>\n",
       "      <td>NaN</td>\n",
       "      <td>NaN</td>\n",
       "      <td>0.0</td>\n",
       "      <td>50813.627300</td>\n",
       "      <td>NaN</td>\n",
       "    </tr>\n",
       "    <tr>\n",
       "      <td>std</td>\n",
       "      <td>NaN</td>\n",
       "      <td>NaN</td>\n",
       "      <td>NaN</td>\n",
       "      <td>NaN</td>\n",
       "      <td>NaN</td>\n",
       "      <td>NaN</td>\n",
       "      <td>NaN</td>\n",
       "      <td>105.712813</td>\n",
       "      <td>NaN</td>\n",
       "      <td>209.216627</td>\n",
       "      <td>NaN</td>\n",
       "      <td>NaN</td>\n",
       "      <td>3.711984</td>\n",
       "      <td>NaN</td>\n",
       "      <td>NaN</td>\n",
       "      <td>NaN</td>\n",
       "      <td>NaN</td>\n",
       "      <td>0.0</td>\n",
       "      <td>25779.747957</td>\n",
       "      <td>NaN</td>\n",
       "    </tr>\n",
       "    <tr>\n",
       "      <td>min</td>\n",
       "      <td>NaN</td>\n",
       "      <td>NaN</td>\n",
       "      <td>NaN</td>\n",
       "      <td>NaN</td>\n",
       "      <td>NaN</td>\n",
       "      <td>NaN</td>\n",
       "      <td>NaN</td>\n",
       "      <td>1000.000000</td>\n",
       "      <td>NaN</td>\n",
       "      <td>0.000000</td>\n",
       "      <td>NaN</td>\n",
       "      <td>NaN</td>\n",
       "      <td>0.000000</td>\n",
       "      <td>NaN</td>\n",
       "      <td>NaN</td>\n",
       "      <td>NaN</td>\n",
       "      <td>NaN</td>\n",
       "      <td>0.0</td>\n",
       "      <td>1067.000000</td>\n",
       "      <td>NaN</td>\n",
       "    </tr>\n",
       "    <tr>\n",
       "      <td>25%</td>\n",
       "      <td>NaN</td>\n",
       "      <td>NaN</td>\n",
       "      <td>NaN</td>\n",
       "      <td>NaN</td>\n",
       "      <td>NaN</td>\n",
       "      <td>NaN</td>\n",
       "      <td>NaN</td>\n",
       "      <td>1999.000000</td>\n",
       "      <td>NaN</td>\n",
       "      <td>70.000000</td>\n",
       "      <td>NaN</td>\n",
       "      <td>NaN</td>\n",
       "      <td>3.000000</td>\n",
       "      <td>NaN</td>\n",
       "      <td>NaN</td>\n",
       "      <td>NaN</td>\n",
       "      <td>NaN</td>\n",
       "      <td>0.0</td>\n",
       "      <td>30451.000000</td>\n",
       "      <td>NaN</td>\n",
       "    </tr>\n",
       "    <tr>\n",
       "      <td>50%</td>\n",
       "      <td>NaN</td>\n",
       "      <td>NaN</td>\n",
       "      <td>NaN</td>\n",
       "      <td>NaN</td>\n",
       "      <td>NaN</td>\n",
       "      <td>NaN</td>\n",
       "      <td>NaN</td>\n",
       "      <td>2003.000000</td>\n",
       "      <td>NaN</td>\n",
       "      <td>105.000000</td>\n",
       "      <td>NaN</td>\n",
       "      <td>NaN</td>\n",
       "      <td>6.000000</td>\n",
       "      <td>NaN</td>\n",
       "      <td>NaN</td>\n",
       "      <td>NaN</td>\n",
       "      <td>NaN</td>\n",
       "      <td>0.0</td>\n",
       "      <td>49577.000000</td>\n",
       "      <td>NaN</td>\n",
       "    </tr>\n",
       "    <tr>\n",
       "      <td>75%</td>\n",
       "      <td>NaN</td>\n",
       "      <td>NaN</td>\n",
       "      <td>NaN</td>\n",
       "      <td>NaN</td>\n",
       "      <td>NaN</td>\n",
       "      <td>NaN</td>\n",
       "      <td>NaN</td>\n",
       "      <td>2008.000000</td>\n",
       "      <td>NaN</td>\n",
       "      <td>150.000000</td>\n",
       "      <td>NaN</td>\n",
       "      <td>NaN</td>\n",
       "      <td>9.000000</td>\n",
       "      <td>NaN</td>\n",
       "      <td>NaN</td>\n",
       "      <td>NaN</td>\n",
       "      <td>NaN</td>\n",
       "      <td>0.0</td>\n",
       "      <td>71540.000000</td>\n",
       "      <td>NaN</td>\n",
       "    </tr>\n",
       "    <tr>\n",
       "      <td>max</td>\n",
       "      <td>NaN</td>\n",
       "      <td>NaN</td>\n",
       "      <td>NaN</td>\n",
       "      <td>NaN</td>\n",
       "      <td>NaN</td>\n",
       "      <td>NaN</td>\n",
       "      <td>NaN</td>\n",
       "      <td>9999.000000</td>\n",
       "      <td>NaN</td>\n",
       "      <td>17700.000000</td>\n",
       "      <td>NaN</td>\n",
       "      <td>NaN</td>\n",
       "      <td>12.000000</td>\n",
       "      <td>NaN</td>\n",
       "      <td>NaN</td>\n",
       "      <td>NaN</td>\n",
       "      <td>NaN</td>\n",
       "      <td>0.0</td>\n",
       "      <td>99998.000000</td>\n",
       "      <td>NaN</td>\n",
       "    </tr>\n",
       "  </tbody>\n",
       "</table>\n",
       "</div>"
      ],
      "text/plain": [
       "            dateCrawled         name  seller offerType  price abtest  \\\n",
       "count             50000        50000   50000     50000  50000  50000   \n",
       "unique            12073        38754       2         2   2357      2   \n",
       "top     3/28/2016 14:49  Ford_Fiesta  privat   Angebot    $0    test   \n",
       "freq                 15           78   49999     49999   1421  25756   \n",
       "mean                NaN          NaN     NaN       NaN    NaN    NaN   \n",
       "std                 NaN          NaN     NaN       NaN    NaN    NaN   \n",
       "min                 NaN          NaN     NaN       NaN    NaN    NaN   \n",
       "25%                 NaN          NaN     NaN       NaN    NaN    NaN   \n",
       "50%                 NaN          NaN     NaN       NaN    NaN    NaN   \n",
       "75%                 NaN          NaN     NaN       NaN    NaN    NaN   \n",
       "max                 NaN          NaN     NaN       NaN    NaN    NaN   \n",
       "\n",
       "       vehicleType  yearOfRegistration  gearbox       powerPS  model  \\\n",
       "count        44905        50000.000000    47320  50000.000000  47242   \n",
       "unique           8                 NaN        2           NaN    245   \n",
       "top      limousine                 NaN  manuell           NaN   golf   \n",
       "freq         12859                 NaN    36993           NaN   4024   \n",
       "mean           NaN         2005.073280      NaN    116.355920    NaN   \n",
       "std            NaN          105.712813      NaN    209.216627    NaN   \n",
       "min            NaN         1000.000000      NaN      0.000000    NaN   \n",
       "25%            NaN         1999.000000      NaN     70.000000    NaN   \n",
       "50%            NaN         2003.000000      NaN    105.000000    NaN   \n",
       "75%            NaN         2008.000000      NaN    150.000000    NaN   \n",
       "max            NaN         9999.000000      NaN  17700.000000    NaN   \n",
       "\n",
       "         odometer  monthOfRegistration fuelType       brand notRepairedDamage  \\\n",
       "count       50000         50000.000000    45518       50000             40171   \n",
       "unique         13                  NaN        7          40                 2   \n",
       "top     150,000km                  NaN   benzin  volkswagen              nein   \n",
       "freq        32424                  NaN    30107       10687             35232   \n",
       "mean          NaN             5.723360      NaN         NaN               NaN   \n",
       "std           NaN             3.711984      NaN         NaN               NaN   \n",
       "min           NaN             0.000000      NaN         NaN               NaN   \n",
       "25%           NaN             3.000000      NaN         NaN               NaN   \n",
       "50%           NaN             6.000000      NaN         NaN               NaN   \n",
       "75%           NaN             9.000000      NaN         NaN               NaN   \n",
       "max           NaN            12.000000      NaN         NaN               NaN   \n",
       "\n",
       "          dateCreated  nrOfPictures    postalCode       lastSeen  \n",
       "count           50000       50000.0  50000.000000          50000  \n",
       "unique             76           NaN           NaN          10432  \n",
       "top     4/3/2016 0:00           NaN           NaN  4/6/2016 2:45  \n",
       "freq             1946           NaN           NaN            112  \n",
       "mean              NaN           0.0  50813.627300            NaN  \n",
       "std               NaN           0.0  25779.747957            NaN  \n",
       "min               NaN           0.0   1067.000000            NaN  \n",
       "25%               NaN           0.0  30451.000000            NaN  \n",
       "50%               NaN           0.0  49577.000000            NaN  \n",
       "75%               NaN           0.0  71540.000000            NaN  \n",
       "max               NaN           0.0  99998.000000            NaN  "
      ]
     },
     "execution_count": 5,
     "metadata": {},
     "output_type": "execute_result"
    }
   ],
   "source": [
    "autos.describe(include='all')"
   ]
  },
  {
   "cell_type": "markdown",
   "metadata": {},
   "source": [
    "From the data above, we can see the followings: \n",
    "- The column nrOfPictures does not contain any values \n",
    "- There are only 2 unique sellers and offerType, which we need to investigate further \n",
    "- Columns Price and Odometer are not in int format.\n",
    "- Column Price and yearOfRegistration contains strange min and max value\n",
    "- Date related columns i.e date_crawled, last_seen, and ad_created are regarded as strings"
   ]
  },
  {
   "cell_type": "markdown",
   "metadata": {},
   "source": [
    "### 3.Data cleaning"
   ]
  },
  {
   "cell_type": "markdown",
   "metadata": {},
   "source": [
    "We will clean the data with the following approach:\n",
    "<br>\n",
    "<br>\n",
    "First, the column 'nrOfPictures' does not contain values and it is not a key information. At the same time we do not have any additional information for it. Therefore we will drop this column\n",
    "<br>\n",
    "<br>\n",
    "For the columns sellers and offertype, the data is as follow: "
   ]
  },
  {
   "cell_type": "code",
   "execution_count": 6,
   "metadata": {},
   "outputs": [
    {
     "name": "stdout",
     "output_type": "stream",
     "text": [
      "privat        49999\n",
      "gewerblich        1\n",
      "Name: seller, dtype: int64\n",
      "Angebot    49999\n",
      "Gesuch         1\n",
      "Name: offerType, dtype: int64\n"
     ]
    }
   ],
   "source": [
    "print(autos['seller'].value_counts())\n",
    "print(autos['offerType'].value_counts())"
   ]
  },
  {
   "cell_type": "markdown",
   "metadata": {},
   "source": [
    "Based on the result above, we can see that most of the values in the columns seller and offer type are in the same value, so we can assume that all sales are from private and offertype is Angebot. \n",
    "<br>\n",
    "<br> With the information above, we can drop the 3 columns mentioned:"
   ]
  },
  {
   "cell_type": "code",
   "execution_count": 7,
   "metadata": {},
   "outputs": [
    {
     "name": "stdout",
     "output_type": "stream",
     "text": [
      "       dateCrawled                                               name  \\\n",
      "0  3/26/2016 17:47                   Peugeot_807_160_NAVTECH_ON_BOARD   \n",
      "1   4/4/2016 13:38         BMW_740i_4_4_Liter_HAMANN_UMBAU_Mega_Optik   \n",
      "2  3/26/2016 18:57                         Volkswagen_Golf_1.6_United   \n",
      "3  3/12/2016 16:58  Smart_smart_fortwo_coupe_softouch/F1/Klima/Pan...   \n",
      "4   4/1/2016 14:38  Ford_Focus_1_6_Benzin_TÜV_neu_ist_sehr_gepfleg...   \n",
      "\n",
      "     price   abtest vehicleType  yearOfRegistration    gearbox  powerPS  \\\n",
      "0  $5,000   control         bus                2004    manuell      158   \n",
      "1  $8,500   control   limousine                1997  automatik      286   \n",
      "2  $8,990      test   limousine                2009    manuell      102   \n",
      "3  $4,350   control  kleinwagen                2007  automatik       71   \n",
      "4  $1,350      test       kombi                2003    manuell        0   \n",
      "\n",
      "    model   odometer  monthOfRegistration fuelType       brand  \\\n",
      "0  andere  150,000km                    3      lpg     peugeot   \n",
      "1     7er  150,000km                    6   benzin         bmw   \n",
      "2    golf   70,000km                    7   benzin  volkswagen   \n",
      "3  fortwo   70,000km                    6   benzin       smart   \n",
      "4   focus  150,000km                    7   benzin        ford   \n",
      "\n",
      "  notRepairedDamage     dateCreated  postalCode        lastSeen  \n",
      "0              nein  3/26/2016 0:00       79588   4/6/2016 6:45  \n",
      "1              nein   4/4/2016 0:00       71034  4/6/2016 14:45  \n",
      "2              nein  3/26/2016 0:00       35394  4/6/2016 20:15  \n",
      "3              nein  3/12/2016 0:00       33729  3/15/2016 3:16  \n",
      "4              nein   4/1/2016 0:00       39218  4/1/2016 14:38  \n"
     ]
    }
   ],
   "source": [
    "autos = autos.drop([\"nrOfPictures\", \"seller\", \"offerType\"], axis=1)\n",
    "print(autos.head())"
   ]
  },
  {
   "cell_type": "markdown",
   "metadata": {},
   "source": [
    "The next issue is the variable tyoe for variable price and odometer. As we see from the autos.info(), the variable is not int64. This may cause problems in the further calculation and we need to find out why."
   ]
  },
  {
   "cell_type": "code",
   "execution_count": 8,
   "metadata": {},
   "outputs": [
    {
     "data": {
      "text/plain": [
       "$0          1421\n",
       "$500         781\n",
       "$1,500       734\n",
       "$2,500       643\n",
       "$1,000       639\n",
       "            ... \n",
       "$29,989        1\n",
       "$75,900        1\n",
       "$34,940        1\n",
       "$61,900        1\n",
       "$6,495         1\n",
       "Name: price, Length: 2357, dtype: int64"
      ]
     },
     "execution_count": 8,
     "metadata": {},
     "output_type": "execute_result"
    }
   ],
   "source": [
    "autos['price'].value_counts()"
   ]
  },
  {
   "cell_type": "code",
   "execution_count": 9,
   "metadata": {},
   "outputs": [
    {
     "data": {
      "text/plain": [
       "150,000km    32424\n",
       "125,000km     5170\n",
       "100,000km     2169\n",
       "90,000km      1757\n",
       "80,000km      1436\n",
       "70,000km      1230\n",
       "60,000km      1164\n",
       "50,000km      1027\n",
       "5,000km        967\n",
       "40,000km       819\n",
       "30,000km       789\n",
       "20,000km       784\n",
       "10,000km       264\n",
       "Name: odometer, dtype: int64"
      ]
     },
     "execution_count": 9,
     "metadata": {},
     "output_type": "execute_result"
    }
   ],
   "source": [
    "autos[\"odometer\"].value_counts()"
   ]
  },
  {
   "cell_type": "markdown",
   "metadata": {},
   "source": [
    "The reason is, there are some other elements such as price tag, commar, or the measure that convert the int to string. \n",
    "<br>For that we can define a function to clean the data: "
   ]
  },
  {
   "cell_type": "code",
   "execution_count": 10,
   "metadata": {},
   "outputs": [],
   "source": [
    "def data_clean(ele): \n",
    "    ele = ele.replace(\"$\",\"\")\n",
    "    ele = ele.replace(\",\",\"\")\n",
    "    ele = ele.replace(\"km\", \"\")\n",
    "    return int(ele)\n",
    "\n",
    "autos[\"price\"] = autos[\"price\"].apply(data_clean) \n",
    "autos[\"odometer\"] = autos[\"odometer\"].apply(data_clean) "
   ]
  },
  {
   "cell_type": "code",
   "execution_count": 11,
   "metadata": {},
   "outputs": [
    {
     "name": "stdout",
     "output_type": "stream",
     "text": [
      "0        1421\n",
      "500       781\n",
      "1500      734\n",
      "2500      643\n",
      "1000      639\n",
      "         ... \n",
      "20790       1\n",
      "8970        1\n",
      "846         1\n",
      "2895        1\n",
      "33980       1\n",
      "Name: price, Length: 2357, dtype: int64\n"
     ]
    }
   ],
   "source": [
    "print(autos[\"price\"].value_counts())"
   ]
  },
  {
   "cell_type": "code",
   "execution_count": 12,
   "metadata": {},
   "outputs": [
    {
     "name": "stdout",
     "output_type": "stream",
     "text": [
      "150000    32424\n",
      "125000     5170\n",
      "100000     2169\n",
      "90000      1757\n",
      "80000      1436\n",
      "70000      1230\n",
      "60000      1164\n",
      "50000      1027\n",
      "5000        967\n",
      "40000       819\n",
      "30000       789\n",
      "20000       784\n",
      "10000       264\n",
      "Name: odometer, dtype: int64\n"
     ]
    }
   ],
   "source": [
    "print(autos[\"odometer\"].value_counts())"
   ]
  },
  {
   "cell_type": "markdown",
   "metadata": {},
   "source": [
    "Now the price and odometer columns are in the corrent format.\n",
    "<br>\n",
    "<br>\n",
    "The next step is to investigate the strange value in the price column. According to the inforation frm description table, the min value is 0 and the max value is higher than 1 million. \n",
    "<br>In this case, we need to know how many of the records contain the extreme values:  "
   ]
  },
  {
   "cell_type": "code",
   "execution_count": 13,
   "metadata": {},
   "outputs": [
    {
     "name": "stdout",
     "output_type": "stream",
     "text": [
      "99999999    1\n",
      "27322222    1\n",
      "12345678    3\n",
      "11111111    2\n",
      "10000000    1\n",
      "3890000     1\n",
      "1300000     1\n",
      "1234566     1\n",
      "999999      2\n",
      "999990      1\n",
      "350000      1\n",
      "345000      1\n",
      "299000      1\n",
      "295000      1\n",
      "265000      1\n",
      "259000      1\n",
      "250000      1\n",
      "220000      1\n",
      "198000      1\n",
      "197000      1\n",
      "Name: price, dtype: int64\n",
      "0     1421\n",
      "1      156\n",
      "2        3\n",
      "3        1\n",
      "5        2\n",
      "8        1\n",
      "9        1\n",
      "10       7\n",
      "11       2\n",
      "12       3\n",
      "13       2\n",
      "14       1\n",
      "15       2\n",
      "17       3\n",
      "18       1\n",
      "20       4\n",
      "25       5\n",
      "29       1\n",
      "30       7\n",
      "35       1\n",
      "Name: price, dtype: int64\n"
     ]
    }
   ],
   "source": [
    "print(autos[\"price\"].value_counts().sort_index(ascending=False).head(20))\n",
    "print(autos[\"price\"].value_counts().sort_index(ascending=True).head(20))"
   ]
  },
  {
   "cell_type": "markdown",
   "metadata": {},
   "source": [
    "From the value, we can see that there are 1421 records with 0 values and 1 record with 99999999, which does not make sense. \n",
    "<br>\n",
    "<br>Furthermore, there are also some records with price i.e records > 350000. However, since ebayKleineAnzeigen is a auction website, it is legitimate to have transactions with 1 EUR. \n",
    "<br>\n",
    "<br>\n",
    "Therefore we can keep those record with the price between 1 - 350000"
   ]
  },
  {
   "cell_type": "code",
   "execution_count": 14,
   "metadata": {},
   "outputs": [
    {
     "data": {
      "text/plain": [
       "count     48565.000000\n",
       "mean       5888.935591\n",
       "std        9059.854754\n",
       "min           1.000000\n",
       "25%        1200.000000\n",
       "50%        3000.000000\n",
       "75%        7490.000000\n",
       "max      350000.000000\n",
       "Name: price, dtype: float64"
      ]
     },
     "execution_count": 14,
     "metadata": {},
     "output_type": "execute_result"
    }
   ],
   "source": [
    "autos = autos[autos['price'].between(1,351000)]\n",
    "autos[\"price\"].describe()"
   ]
  },
  {
   "cell_type": "markdown",
   "metadata": {},
   "source": [
    "Regarding to the date issue, the date_crawled, last_seen, and ad_created columns are all identified as string values by pandas. Because these three columns are represented as strings, we need to convert the data into a numerical representation so we can understand it quantitatively. \n",
    "<br>\n",
    "<br>\n",
    "Let's first understand how the values in the three string columns are formatted."
   ]
  },
  {
   "cell_type": "code",
   "execution_count": 15,
   "metadata": {},
   "outputs": [
    {
     "data": {
      "text/html": [
       "<div>\n",
       "<style scoped>\n",
       "    .dataframe tbody tr th:only-of-type {\n",
       "        vertical-align: middle;\n",
       "    }\n",
       "\n",
       "    .dataframe tbody tr th {\n",
       "        vertical-align: top;\n",
       "    }\n",
       "\n",
       "    .dataframe thead th {\n",
       "        text-align: right;\n",
       "    }\n",
       "</style>\n",
       "<table border=\"1\" class=\"dataframe\">\n",
       "  <thead>\n",
       "    <tr style=\"text-align: right;\">\n",
       "      <th></th>\n",
       "      <th>dateCrawled</th>\n",
       "      <th>dateCreated</th>\n",
       "      <th>lastSeen</th>\n",
       "    </tr>\n",
       "  </thead>\n",
       "  <tbody>\n",
       "    <tr>\n",
       "      <td>0</td>\n",
       "      <td>3/26/2016 17:47</td>\n",
       "      <td>3/26/2016 0:00</td>\n",
       "      <td>4/6/2016 6:45</td>\n",
       "    </tr>\n",
       "    <tr>\n",
       "      <td>1</td>\n",
       "      <td>4/4/2016 13:38</td>\n",
       "      <td>4/4/2016 0:00</td>\n",
       "      <td>4/6/2016 14:45</td>\n",
       "    </tr>\n",
       "    <tr>\n",
       "      <td>2</td>\n",
       "      <td>3/26/2016 18:57</td>\n",
       "      <td>3/26/2016 0:00</td>\n",
       "      <td>4/6/2016 20:15</td>\n",
       "    </tr>\n",
       "    <tr>\n",
       "      <td>3</td>\n",
       "      <td>3/12/2016 16:58</td>\n",
       "      <td>3/12/2016 0:00</td>\n",
       "      <td>3/15/2016 3:16</td>\n",
       "    </tr>\n",
       "    <tr>\n",
       "      <td>4</td>\n",
       "      <td>4/1/2016 14:38</td>\n",
       "      <td>4/1/2016 0:00</td>\n",
       "      <td>4/1/2016 14:38</td>\n",
       "    </tr>\n",
       "  </tbody>\n",
       "</table>\n",
       "</div>"
      ],
      "text/plain": [
       "       dateCrawled     dateCreated        lastSeen\n",
       "0  3/26/2016 17:47  3/26/2016 0:00   4/6/2016 6:45\n",
       "1   4/4/2016 13:38   4/4/2016 0:00  4/6/2016 14:45\n",
       "2  3/26/2016 18:57  3/26/2016 0:00  4/6/2016 20:15\n",
       "3  3/12/2016 16:58  3/12/2016 0:00  3/15/2016 3:16\n",
       "4   4/1/2016 14:38   4/1/2016 0:00  4/1/2016 14:38"
      ]
     },
     "execution_count": 15,
     "metadata": {},
     "output_type": "execute_result"
    }
   ],
   "source": [
    "autos[['dateCrawled','dateCreated','lastSeen']][0:5]"
   ]
  },
  {
   "cell_type": "markdown",
   "metadata": {},
   "source": [
    "To understand the date range, we can extract just the date values, and the date value for all 3 columns are the first 10 characters. Therefore we can extract them with a function:"
   ]
  },
  {
   "cell_type": "code",
   "execution_count": 16,
   "metadata": {},
   "outputs": [
    {
     "data": {
      "text/plain": [
       "3/10/2016     0.032184\n",
       "3/11/2016     0.032575\n",
       "3/12/2016     0.036920\n",
       "3/13/2016     0.015670\n",
       "3/14/2016     0.036549\n",
       "                ...   \n",
       "4/7/2016 4    0.000021\n",
       "4/7/2016 6    0.000021\n",
       "4/7/2016 7    0.000082\n",
       "4/7/2016 8    0.000082\n",
       "4/7/2016 9    0.000082\n",
       "Name: dateCrawled, Length: 131, dtype: float64"
      ]
     },
     "execution_count": 16,
     "metadata": {},
     "output_type": "execute_result"
    }
   ],
   "source": [
    "autos['dateCrawled'].str[:10].value_counts(normalize=True, dropna=False).sort_index()"
   ]
  },
  {
   "cell_type": "code",
   "execution_count": 17,
   "metadata": {},
   "outputs": [
    {
     "data": {
      "text/plain": [
       "2/16/2016     0.000021\n",
       "2/17/2016     0.000021\n",
       "2/11/2016     0.000021\n",
       "2/9/2016 0    0.000021\n",
       "1/29/2016     0.000021\n",
       "                ...   \n",
       "3/12/2016     0.036755\n",
       "4/4/2016 0    0.036858\n",
       "3/21/2016     0.037579\n",
       "3/20/2016     0.037949\n",
       "4/3/2016 0    0.038855\n",
       "Name: dateCreated, Length: 76, dtype: float64"
      ]
     },
     "execution_count": 17,
     "metadata": {},
     "output_type": "execute_result"
    }
   ],
   "source": [
    "autos[\"dateCreated\"].str[:10].value_counts(normalize=True, dropna=False).sort_values()"
   ]
  },
  {
   "cell_type": "code",
   "execution_count": 18,
   "metadata": {},
   "outputs": [
    {
     "data": {
      "text/plain": [
       "3/6/2016 6    0.000021\n",
       "3/6/2016 5    0.000041\n",
       "3/8/2016 0    0.000041\n",
       "3/7/2016 5    0.000041\n",
       "3/9/2016 3    0.000062\n",
       "                ...   \n",
       "4/5/2016 2    0.037496\n",
       "4/6/2016 2    0.046700\n",
       "4/7/2016 1    0.047483\n",
       "4/5/2016 1    0.080325\n",
       "4/6/2016 1    0.099949\n",
       "Name: lastSeen, Length: 130, dtype: float64"
      ]
     },
     "execution_count": 18,
     "metadata": {},
     "output_type": "execute_result"
    }
   ],
   "source": [
    "autos[\"lastSeen\"].str[:10].value_counts(normalize=True, dropna=False).sort_values()"
   ]
  },
  {
   "cell_type": "markdown",
   "metadata": {},
   "source": [
    "The last data issue is the year of registration. First, the year of registration should not be later than 2016 since the data is crawled in 2016. Second, it should be at least after 1900 since cars are invented after 1900. \n",
    "<br>\n",
    "<br>\n",
    "With the assumption above, we can see the trends are as follows: "
   ]
  },
  {
   "cell_type": "code",
   "execution_count": 20,
   "metadata": {},
   "outputs": [
    {
     "data": {
      "image/png": "[encoded data removed]",
      "text/plain": [
       "<Figure size 432x288 with 1 Axes>"
      ]
     },
     "metadata": {
      "needs_background": "light"
     },
     "output_type": "display_data"
    }
   ],
   "source": [
    "import matplotlib.pyplot as plt\n",
    "fig, ax = plt.subplots()\n",
    "ax.hist(autos[\"yearOfRegistration\"], range=(1900,2016), bins=11)\n",
    "plt.show();"
   ]
  },
  {
   "cell_type": "markdown",
   "metadata": {},
   "source": [
    "We can see that there are only a few records for cars which were registered before 1990, so we can exclude those. \n",
    "The data shd be as follows: "
   ]
  },
  {
   "cell_type": "code",
   "execution_count": 21,
   "metadata": {},
   "outputs": [
    {
     "data": {
      "text/plain": [
       "2000    0.067608\n",
       "2005    0.062895\n",
       "1999    0.062060\n",
       "2004    0.057904\n",
       "2003    0.057818\n",
       "2006    0.057197\n",
       "2001    0.056468\n",
       "2002    0.053255\n",
       "1998    0.050620\n",
       "2007    0.048778\n",
       "Name: yearOfRegistration, dtype: float64"
      ]
     },
     "execution_count": 21,
     "metadata": {},
     "output_type": "execute_result"
    }
   ],
   "source": [
    "autos = autos[autos[\"yearOfRegistration\"].between(1900,2016)]\n",
    "autos[\"yearOfRegistration\"].value_counts(normalize=True).head(10)"
   ]
  },
  {
   "cell_type": "markdown",
   "metadata": {},
   "source": [
    "Now we have cleaned up the dataset. To make the column names easier to read, we can switch the columns from camel case to snake case. \n",
    "<br>\n",
    "<br>\n",
    "For some columns, we need to rename them and we can apply the function to the remaining columns: "
   ]
  },
  {
   "cell_type": "code",
   "execution_count": 22,
   "metadata": {},
   "outputs": [
    {
     "name": "stdout",
     "output_type": "stream",
     "text": [
      "Index(['date_crawled', 'name', 'price', 'abtest', 'vehicle_type',\n",
      "       'registration_year', 'gearbox', 'power_ps', 'model', 'odometer',\n",
      "       'registration_month', 'fuel_type', 'brand', 'not_repaired_damage',\n",
      "       'ad_created', 'postal_code', 'last_seen'],\n",
      "      dtype='object')\n"
     ]
    }
   ],
   "source": [
    "def change_case(x):\n",
    "    return ''.join('_' + char.lower() if char.isupper() else char for char in x).lstrip('_')\n",
    "\n",
    "autos.rename(columns={'yearOfRegistration':'registration_year'}, inplace=True)\n",
    "autos.rename(columns={'monthOfRegistration':'registration_month'}, inplace=True)\n",
    "autos.rename(columns={'notRepairedDamange':'unrepaired_damage'}, inplace=True)\n",
    "autos.rename(columns={'dateCreated':'ad_created'}, inplace=True)\n",
    "autos.rename(columns={'powerPS': 'power_ps'}, inplace=True)\n",
    "\n",
    "for x in autos.columns: \n",
    "    autos.rename(columns={x: change_case(x)}, inplace=True)\n",
    "\n",
    "print(autos.columns) "
   ]
  },
  {
   "cell_type": "markdown",
   "metadata": {},
   "source": [
    "### 4.Analysis"
   ]
  },
  {
   "cell_type": "markdown",
   "metadata": {},
   "source": [
    "As mentioned before, this analysis aims to answer the following question: *If someone wants to buy a second hand car in ebay, which brand would be better?*"
   ]
  },
  {
   "cell_type": "markdown",
   "metadata": {},
   "source": [
    "To start the anaylsis, we first have to know: \n",
    "- What are the favourite brands in the market?\n",
    "- Whats is the average price of the cars under those brands?"
   ]
  },
  {
   "cell_type": "markdown",
   "metadata": {},
   "source": [
    "### The favourite brands"
   ]
  },
  {
   "cell_type": "code",
   "execution_count": 24,
   "metadata": {},
   "outputs": [
    {
     "data": {
      "text/plain": [
       "<matplotlib.axes._subplots.AxesSubplot at 0x168c957f1c8>"
      ]
     },
     "execution_count": 24,
     "metadata": {},
     "output_type": "execute_result"
    },
    {
     "data": {
      "image/png": "[encoded data removed]",
      "text/plain": [
       "<Figure size 432x288 with 1 Axes>"
      ]
     },
     "metadata": {
      "needs_background": "light"
     },
     "output_type": "display_data"
    }
   ],
   "source": [
    "fav_brands = autos[\"brand\"].value_counts(normalize=True).head(10)\n",
    "data.plot(kind='bar')"
   ]
  },
  {
   "cell_type": "markdown",
   "metadata": {},
   "source": [
    "From the chart, we can see that the cars from german manufacturers are the favourite brands, follows by ford and some other european brands.\n",
    "<br> We will choose these brands and further analzye their products"
   ]
  },
  {
   "cell_type": "markdown",
   "metadata": {},
   "source": [
    "### The average price of those brands "
   ]
  },
  {
   "cell_type": "code",
   "execution_count": 33,
   "metadata": {},
   "outputs": [
    {
     "data": {
      "text/html": [
       "<style  type=\"text/css\" >\n",
       "</style><table id=\"T_f052096e_9f47_11ea_b867_00bb608c29df\" ><thead>    <tr>        <th class=\"col_heading level0 col0\" >brand</th>        <th class=\"col_heading level0 col1\" >avg_price</th>    </tr></thead><tbody>\n",
       "                <tr>\n",
       "                                <td id=\"T_f052096e_9f47_11ea_b867_00bb608c29dfrow0_col0\" class=\"data row0 col0\" >audi</td>\n",
       "                        <td id=\"T_f052096e_9f47_11ea_b867_00bb608c29dfrow0_col1\" class=\"data row0 col1\" >9336</td>\n",
       "            </tr>\n",
       "            <tr>\n",
       "                                <td id=\"T_f052096e_9f47_11ea_b867_00bb608c29dfrow1_col0\" class=\"data row1 col0\" >mercedes_benz</td>\n",
       "                        <td id=\"T_f052096e_9f47_11ea_b867_00bb608c29dfrow1_col1\" class=\"data row1 col1\" >8628</td>\n",
       "            </tr>\n",
       "            <tr>\n",
       "                                <td id=\"T_f052096e_9f47_11ea_b867_00bb608c29dfrow2_col0\" class=\"data row2 col0\" >bmw</td>\n",
       "                        <td id=\"T_f052096e_9f47_11ea_b867_00bb608c29dfrow2_col1\" class=\"data row2 col1\" >8332</td>\n",
       "            </tr>\n",
       "            <tr>\n",
       "                                <td id=\"T_f052096e_9f47_11ea_b867_00bb608c29dfrow3_col0\" class=\"data row3 col0\" >volkswagen</td>\n",
       "                        <td id=\"T_f052096e_9f47_11ea_b867_00bb608c29dfrow3_col1\" class=\"data row3 col1\" >5402</td>\n",
       "            </tr>\n",
       "            <tr>\n",
       "                                <td id=\"T_f052096e_9f47_11ea_b867_00bb608c29dfrow4_col0\" class=\"data row4 col0\" >seat</td>\n",
       "                        <td id=\"T_f052096e_9f47_11ea_b867_00bb608c29dfrow4_col1\" class=\"data row4 col1\" >4397</td>\n",
       "            </tr>\n",
       "            <tr>\n",
       "                                <td id=\"T_f052096e_9f47_11ea_b867_00bb608c29dfrow5_col0\" class=\"data row5 col0\" >ford</td>\n",
       "                        <td id=\"T_f052096e_9f47_11ea_b867_00bb608c29dfrow5_col1\" class=\"data row5 col1\" >3749</td>\n",
       "            </tr>\n",
       "            <tr>\n",
       "                                <td id=\"T_f052096e_9f47_11ea_b867_00bb608c29dfrow6_col0\" class=\"data row6 col0\" >peugeot</td>\n",
       "                        <td id=\"T_f052096e_9f47_11ea_b867_00bb608c29dfrow6_col1\" class=\"data row6 col1\" >3094</td>\n",
       "            </tr>\n",
       "            <tr>\n",
       "                                <td id=\"T_f052096e_9f47_11ea_b867_00bb608c29dfrow7_col0\" class=\"data row7 col0\" >opel</td>\n",
       "                        <td id=\"T_f052096e_9f47_11ea_b867_00bb608c29dfrow7_col1\" class=\"data row7 col1\" >2975</td>\n",
       "            </tr>\n",
       "            <tr>\n",
       "                                <td id=\"T_f052096e_9f47_11ea_b867_00bb608c29dfrow8_col0\" class=\"data row8 col0\" >fiat</td>\n",
       "                        <td id=\"T_f052096e_9f47_11ea_b867_00bb608c29dfrow8_col1\" class=\"data row8 col1\" >2813</td>\n",
       "            </tr>\n",
       "            <tr>\n",
       "                                <td id=\"T_f052096e_9f47_11ea_b867_00bb608c29dfrow9_col0\" class=\"data row9 col0\" >renault</td>\n",
       "                        <td id=\"T_f052096e_9f47_11ea_b867_00bb608c29dfrow9_col1\" class=\"data row9 col1\" >2474</td>\n",
       "            </tr>\n",
       "    </tbody></table>"
      ],
      "text/plain": [
       "<pandas.io.formats.style.Styler at 0x168c9c1e748>"
      ]
     },
     "execution_count": 33,
     "metadata": {},
     "output_type": "execute_result"
    }
   ],
   "source": [
    "brand_mean_prices = {}\n",
    "selected_brands = data.index\n",
    "\n",
    "# First use a dict to save to data \n",
    "for brand in selected_brands:\n",
    "    brand_only = autos[autos[\"brand\"] == brand]\n",
    "    mean_price = brand_only[\"price\"].mean()\n",
    "    brand_mean_prices[brand] = int(mean_price)\n",
    "\n",
    "# Then convert the dict into dataframe and rank     \n",
    "df_price = pd.DataFrame(list(brand_mean_prices.items()), columns = ['brand', 'avg_price'])\n",
    "df_price.sort_values('avg_price',inplace=True, ascending=False)\n",
    "df_price.style.hide_index()    "
   ]
  },
  {
   "cell_type": "markdown",
   "metadata": {},
   "source": [
    "There is no surprise that cars from Audi, MB and BMW have a significantly higher price then the others.\n",
    "<br>\n",
    "<br>\n",
    "However, not all the customers aim to buy a luxury brand cars. To make a better recommendation, we can divide the brands into different segments, based on the average selling price.\n",
    "- For brands which have a average price > 8000, it is regarded as luxury brands\n",
    "- For brands which have a average price between 3000 and 7999, it is regarded as normal-price brands\n",
    "- For brands which have a average price lower than 3000, it is regarded as low-price brands"
   ]
  },
  {
   "cell_type": "code",
   "execution_count": 40,
   "metadata": {},
   "outputs": [
    {
     "data": {
      "text/html": [
       "<style  type=\"text/css\" >\n",
       "</style><table id=\"T_8049ee3e_9f48_11ea_b41c_00bb608c29df\" ><thead>    <tr>        <th class=\"col_heading level0 col0\" >brand</th>        <th class=\"col_heading level0 col1\" >avg_price</th>        <th class=\"col_heading level0 col2\" >category</th>    </tr></thead><tbody>\n",
       "                <tr>\n",
       "                                <td id=\"T_8049ee3e_9f48_11ea_b41c_00bb608c29dfrow0_col0\" class=\"data row0 col0\" >audi</td>\n",
       "                        <td id=\"T_8049ee3e_9f48_11ea_b41c_00bb608c29dfrow0_col1\" class=\"data row0 col1\" >9336</td>\n",
       "                        <td id=\"T_8049ee3e_9f48_11ea_b41c_00bb608c29dfrow0_col2\" class=\"data row0 col2\" >luxury_brands</td>\n",
       "            </tr>\n",
       "            <tr>\n",
       "                                <td id=\"T_8049ee3e_9f48_11ea_b41c_00bb608c29dfrow1_col0\" class=\"data row1 col0\" >mercedes_benz</td>\n",
       "                        <td id=\"T_8049ee3e_9f48_11ea_b41c_00bb608c29dfrow1_col1\" class=\"data row1 col1\" >8628</td>\n",
       "                        <td id=\"T_8049ee3e_9f48_11ea_b41c_00bb608c29dfrow1_col2\" class=\"data row1 col2\" >luxury_brands</td>\n",
       "            </tr>\n",
       "            <tr>\n",
       "                                <td id=\"T_8049ee3e_9f48_11ea_b41c_00bb608c29dfrow2_col0\" class=\"data row2 col0\" >bmw</td>\n",
       "                        <td id=\"T_8049ee3e_9f48_11ea_b41c_00bb608c29dfrow2_col1\" class=\"data row2 col1\" >8332</td>\n",
       "                        <td id=\"T_8049ee3e_9f48_11ea_b41c_00bb608c29dfrow2_col2\" class=\"data row2 col2\" >luxury_brands</td>\n",
       "            </tr>\n",
       "            <tr>\n",
       "                                <td id=\"T_8049ee3e_9f48_11ea_b41c_00bb608c29dfrow3_col0\" class=\"data row3 col0\" >volkswagen</td>\n",
       "                        <td id=\"T_8049ee3e_9f48_11ea_b41c_00bb608c29dfrow3_col1\" class=\"data row3 col1\" >5402</td>\n",
       "                        <td id=\"T_8049ee3e_9f48_11ea_b41c_00bb608c29dfrow3_col2\" class=\"data row3 col2\" >normal brands</td>\n",
       "            </tr>\n",
       "            <tr>\n",
       "                                <td id=\"T_8049ee3e_9f48_11ea_b41c_00bb608c29dfrow4_col0\" class=\"data row4 col0\" >seat</td>\n",
       "                        <td id=\"T_8049ee3e_9f48_11ea_b41c_00bb608c29dfrow4_col1\" class=\"data row4 col1\" >4397</td>\n",
       "                        <td id=\"T_8049ee3e_9f48_11ea_b41c_00bb608c29dfrow4_col2\" class=\"data row4 col2\" >normal brands</td>\n",
       "            </tr>\n",
       "            <tr>\n",
       "                                <td id=\"T_8049ee3e_9f48_11ea_b41c_00bb608c29dfrow5_col0\" class=\"data row5 col0\" >ford</td>\n",
       "                        <td id=\"T_8049ee3e_9f48_11ea_b41c_00bb608c29dfrow5_col1\" class=\"data row5 col1\" >3749</td>\n",
       "                        <td id=\"T_8049ee3e_9f48_11ea_b41c_00bb608c29dfrow5_col2\" class=\"data row5 col2\" >normal brands</td>\n",
       "            </tr>\n",
       "            <tr>\n",
       "                                <td id=\"T_8049ee3e_9f48_11ea_b41c_00bb608c29dfrow6_col0\" class=\"data row6 col0\" >peugeot</td>\n",
       "                        <td id=\"T_8049ee3e_9f48_11ea_b41c_00bb608c29dfrow6_col1\" class=\"data row6 col1\" >3094</td>\n",
       "                        <td id=\"T_8049ee3e_9f48_11ea_b41c_00bb608c29dfrow6_col2\" class=\"data row6 col2\" >normal brands</td>\n",
       "            </tr>\n",
       "            <tr>\n",
       "                                <td id=\"T_8049ee3e_9f48_11ea_b41c_00bb608c29dfrow7_col0\" class=\"data row7 col0\" >opel</td>\n",
       "                        <td id=\"T_8049ee3e_9f48_11ea_b41c_00bb608c29dfrow7_col1\" class=\"data row7 col1\" >2975</td>\n",
       "                        <td id=\"T_8049ee3e_9f48_11ea_b41c_00bb608c29dfrow7_col2\" class=\"data row7 col2\" >low_price_brands</td>\n",
       "            </tr>\n",
       "            <tr>\n",
       "                                <td id=\"T_8049ee3e_9f48_11ea_b41c_00bb608c29dfrow8_col0\" class=\"data row8 col0\" >fiat</td>\n",
       "                        <td id=\"T_8049ee3e_9f48_11ea_b41c_00bb608c29dfrow8_col1\" class=\"data row8 col1\" >2813</td>\n",
       "                        <td id=\"T_8049ee3e_9f48_11ea_b41c_00bb608c29dfrow8_col2\" class=\"data row8 col2\" >low_price_brands</td>\n",
       "            </tr>\n",
       "            <tr>\n",
       "                                <td id=\"T_8049ee3e_9f48_11ea_b41c_00bb608c29dfrow9_col0\" class=\"data row9 col0\" >renault</td>\n",
       "                        <td id=\"T_8049ee3e_9f48_11ea_b41c_00bb608c29dfrow9_col1\" class=\"data row9 col1\" >2474</td>\n",
       "                        <td id=\"T_8049ee3e_9f48_11ea_b41c_00bb608c29dfrow9_col2\" class=\"data row9 col2\" >low_price_brands</td>\n",
       "            </tr>\n",
       "    </tbody></table>"
      ],
      "text/plain": [
       "<pandas.io.formats.style.Styler at 0x168c9c3bdc8>"
      ]
     },
     "execution_count": 40,
     "metadata": {},
     "output_type": "execute_result"
    }
   ],
   "source": [
    "def classification(ele): \n",
    "    if ele > 8000:\n",
    "        return 'luxury_brands'\n",
    "    elif ele <= 2999: \n",
    "        return 'low_price_brands'\n",
    "    elif (ele >= 3000 & ele <= 7999):\n",
    "        return 'normal brands'\n",
    "   \n",
    "df_price['category'] = df_price['avg_price'].apply(classification)\n",
    "df_price.style.hide_index()"
   ]
  },
  {
   "cell_type": "markdown",
   "metadata": {},
   "source": [
    "### The average mileage of those brands "
   ]
  },
  {
   "cell_type": "markdown",
   "metadata": {},
   "source": [
    "Besides price, mileage is also an important factor that potential used-cars buyers should consider. The higher the mileage, the larger opportunity that the car wears out. \n",
    "<br>\n",
    "<br>\n",
    "We can use the same technique above in analysing the average mileage:"
   ]
  },
  {
   "cell_type": "code",
   "execution_count": 34,
   "metadata": {},
   "outputs": [
    {
     "data": {
      "text/html": [
       "<style  type=\"text/css\" >\n",
       "</style><table id=\"T_f5bca854_9f47_11ea_b823_00bb608c29df\" ><thead>    <tr>        <th class=\"col_heading level0 col0\" >brand</th>        <th class=\"col_heading level0 col1\" >avg_mileage</th>    </tr></thead><tbody>\n",
       "                <tr>\n",
       "                                <td id=\"T_f5bca854_9f47_11ea_b823_00bb608c29dfrow0_col0\" class=\"data row0 col0\" >bmw</td>\n",
       "                        <td id=\"T_f5bca854_9f47_11ea_b823_00bb608c29dfrow0_col1\" class=\"data row0 col1\" >132572</td>\n",
       "            </tr>\n",
       "            <tr>\n",
       "                                <td id=\"T_f5bca854_9f47_11ea_b823_00bb608c29dfrow1_col0\" class=\"data row1 col0\" >mercedes_benz</td>\n",
       "                        <td id=\"T_f5bca854_9f47_11ea_b823_00bb608c29dfrow1_col1\" class=\"data row1 col1\" >130788</td>\n",
       "            </tr>\n",
       "            <tr>\n",
       "                                <td id=\"T_f5bca854_9f47_11ea_b823_00bb608c29dfrow2_col0\" class=\"data row2 col0\" >opel</td>\n",
       "                        <td id=\"T_f5bca854_9f47_11ea_b823_00bb608c29dfrow2_col1\" class=\"data row2 col1\" >129310</td>\n",
       "            </tr>\n",
       "            <tr>\n",
       "                                <td id=\"T_f5bca854_9f47_11ea_b823_00bb608c29dfrow3_col0\" class=\"data row3 col0\" >audi</td>\n",
       "                        <td id=\"T_f5bca854_9f47_11ea_b823_00bb608c29dfrow3_col1\" class=\"data row3 col1\" >129157</td>\n",
       "            </tr>\n",
       "            <tr>\n",
       "                                <td id=\"T_f5bca854_9f47_11ea_b823_00bb608c29dfrow4_col0\" class=\"data row4 col0\" >volkswagen</td>\n",
       "                        <td id=\"T_f5bca854_9f47_11ea_b823_00bb608c29dfrow4_col1\" class=\"data row4 col1\" >128707</td>\n",
       "            </tr>\n",
       "            <tr>\n",
       "                                <td id=\"T_f5bca854_9f47_11ea_b823_00bb608c29dfrow5_col0\" class=\"data row5 col0\" >renault</td>\n",
       "                        <td id=\"T_f5bca854_9f47_11ea_b823_00bb608c29dfrow5_col1\" class=\"data row5 col1\" >128071</td>\n",
       "            </tr>\n",
       "            <tr>\n",
       "                                <td id=\"T_f5bca854_9f47_11ea_b823_00bb608c29dfrow6_col0\" class=\"data row6 col0\" >peugeot</td>\n",
       "                        <td id=\"T_f5bca854_9f47_11ea_b823_00bb608c29dfrow6_col1\" class=\"data row6 col1\" >127153</td>\n",
       "            </tr>\n",
       "            <tr>\n",
       "                                <td id=\"T_f5bca854_9f47_11ea_b823_00bb608c29dfrow7_col0\" class=\"data row7 col0\" >ford</td>\n",
       "                        <td id=\"T_f5bca854_9f47_11ea_b823_00bb608c29dfrow7_col1\" class=\"data row7 col1\" >124266</td>\n",
       "            </tr>\n",
       "            <tr>\n",
       "                                <td id=\"T_f5bca854_9f47_11ea_b823_00bb608c29dfrow8_col0\" class=\"data row8 col0\" >seat</td>\n",
       "                        <td id=\"T_f5bca854_9f47_11ea_b823_00bb608c29dfrow8_col1\" class=\"data row8 col1\" >121131</td>\n",
       "            </tr>\n",
       "            <tr>\n",
       "                                <td id=\"T_f5bca854_9f47_11ea_b823_00bb608c29dfrow9_col0\" class=\"data row9 col0\" >fiat</td>\n",
       "                        <td id=\"T_f5bca854_9f47_11ea_b823_00bb608c29dfrow9_col1\" class=\"data row9 col1\" >117121</td>\n",
       "            </tr>\n",
       "    </tbody></table>"
      ],
      "text/plain": [
       "<pandas.io.formats.style.Styler at 0x168c9b89f88>"
      ]
     },
     "execution_count": 34,
     "metadata": {},
     "output_type": "execute_result"
    }
   ],
   "source": [
    "brand_mean_mileage = {}\n",
    "\n",
    "for brand in data.index:\n",
    "    brand_only = autos[autos[\"brand\"] == brand]\n",
    "    mean_mileage = brand_only[\"odometer\"].mean()\n",
    "    brand_mean_mileage[brand] = int(mean_mileage)\n",
    "\n",
    "brand_mean_mileage \n",
    "    \n",
    "    \n",
    "df_mileage = pd.DataFrame(list(brand_mean_mileage.items()), columns = ['brand', 'avg_mileage'])\n",
    "df_mileage.sort_values('avg_mileage',inplace=True, ascending=False)\n",
    "df_mileage.style.hide_index()"
   ]
  },
  {
   "cell_type": "markdown",
   "metadata": {},
   "source": [
    "From the data above, we can see that Fiat has significantly lower average mileages. But except Fiats, the difference between the other brands is within or at most 10%. "
   ]
  },
  {
   "cell_type": "markdown",
   "metadata": {},
   "source": [
    "### Percentage of cars with non-repairing damages"
   ]
  },
  {
   "cell_type": "markdown",
   "metadata": {},
   "source": [
    "This figure is a important metrics, because it reflects how are the cars maintained and the possibilities of extra expense in repairing and maintenance. "
   ]
  },
  {
   "cell_type": "code",
   "execution_count": 37,
   "metadata": {},
   "outputs": [
    {
     "data": {
      "text/html": [
       "<style  type=\"text/css\" >\n",
       "</style><table id=\"T_2e154654_9f48_11ea_89c5_00bb608c29df\" ><thead>    <tr>        <th class=\"col_heading level0 col0\" >brand</th>        <th class=\"col_heading level0 col1\" >unrepair_pct</th>    </tr></thead><tbody>\n",
       "                <tr>\n",
       "                                <td id=\"T_2e154654_9f48_11ea_89c5_00bb608c29dfrow0_col0\" class=\"data row0 col0\" >audi</td>\n",
       "                        <td id=\"T_2e154654_9f48_11ea_89c5_00bb608c29dfrow0_col1\" class=\"data row0 col1\" >0.0980277</td>\n",
       "            </tr>\n",
       "            <tr>\n",
       "                                <td id=\"T_2e154654_9f48_11ea_89c5_00bb608c29dfrow1_col0\" class=\"data row1 col0\" >bmw</td>\n",
       "                        <td id=\"T_2e154654_9f48_11ea_89c5_00bb608c29dfrow1_col1\" class=\"data row1 col1\" >0.0926224</td>\n",
       "            </tr>\n",
       "            <tr>\n",
       "                                <td id=\"T_2e154654_9f48_11ea_89c5_00bb608c29dfrow2_col0\" class=\"data row2 col0\" >fiat</td>\n",
       "                        <td id=\"T_2e154654_9f48_11ea_89c5_00bb608c29dfrow2_col1\" class=\"data row2 col1\" >0.146394</td>\n",
       "            </tr>\n",
       "            <tr>\n",
       "                                <td id=\"T_2e154654_9f48_11ea_89c5_00bb608c29dfrow3_col0\" class=\"data row3 col0\" >ford</td>\n",
       "                        <td id=\"T_2e154654_9f48_11ea_89c5_00bb608c29dfrow3_col1\" class=\"data row3 col1\" >0.159047</td>\n",
       "            </tr>\n",
       "            <tr>\n",
       "                                <td id=\"T_2e154654_9f48_11ea_89c5_00bb608c29dfrow4_col0\" class=\"data row4 col0\" >mercedes_benz</td>\n",
       "                        <td id=\"T_2e154654_9f48_11ea_89c5_00bb608c29dfrow4_col1\" class=\"data row4 col1\" >0.0900735</td>\n",
       "            </tr>\n",
       "            <tr>\n",
       "                                <td id=\"T_2e154654_9f48_11ea_89c5_00bb608c29dfrow5_col0\" class=\"data row5 col0\" >opel</td>\n",
       "                        <td id=\"T_2e154654_9f48_11ea_89c5_00bb608c29dfrow5_col1\" class=\"data row5 col1\" >0.148381</td>\n",
       "            </tr>\n",
       "            <tr>\n",
       "                                <td id=\"T_2e154654_9f48_11ea_89c5_00bb608c29dfrow6_col0\" class=\"data row6 col0\" >peugeot</td>\n",
       "                        <td id=\"T_2e154654_9f48_11ea_89c5_00bb608c29dfrow6_col1\" class=\"data row6 col1\" >0.160377</td>\n",
       "            </tr>\n",
       "            <tr>\n",
       "                                <td id=\"T_2e154654_9f48_11ea_89c5_00bb608c29dfrow7_col0\" class=\"data row7 col0\" >renault</td>\n",
       "                        <td id=\"T_2e154654_9f48_11ea_89c5_00bb608c29dfrow7_col1\" class=\"data row7 col1\" >0.162069</td>\n",
       "            </tr>\n",
       "            <tr>\n",
       "                                <td id=\"T_2e154654_9f48_11ea_89c5_00bb608c29dfrow8_col0\" class=\"data row8 col0\" >seat</td>\n",
       "                        <td id=\"T_2e154654_9f48_11ea_89c5_00bb608c29dfrow8_col1\" class=\"data row8 col1\" >0.120112</td>\n",
       "            </tr>\n",
       "            <tr>\n",
       "                                <td id=\"T_2e154654_9f48_11ea_89c5_00bb608c29dfrow9_col0\" class=\"data row9 col0\" >volkswagen</td>\n",
       "                        <td id=\"T_2e154654_9f48_11ea_89c5_00bb608c29dfrow9_col1\" class=\"data row9 col1\" >0.107193</td>\n",
       "            </tr>\n",
       "    </tbody></table>"
      ],
      "text/plain": [
       "<pandas.io.formats.style.Styler at 0x168c9ce1948>"
      ]
     },
     "execution_count": 37,
     "metadata": {},
     "output_type": "execute_result"
    }
   ],
   "source": [
    "brands = autos[autos['brand'].isin(selected_brands)]\n",
    "unrepair_damage_brands = brands.groupby(['brand','not_repaired_damage'])['not_repaired_damage'].count().reset_index(name='count')\n",
    "unrepair_damage_brands['unrepair_pct'] = unrepair_damage_brands['count'].div(unrepair_damage_brands.groupby('brand')['count'].transform('sum'))\n",
    "unrepair_damage_brands_prob = unrepair_damage_brands[unrepair_damage_brands['not_repaired_damage'] == 'ja'][['brand', 'unrepair_pct']]\n",
    "unrepair_damage_brands_prob.style.hide_index()"
   ]
  },
  {
   "cell_type": "markdown",
   "metadata": {},
   "source": [
    "### Merge all data"
   ]
  },
  {
   "cell_type": "markdown",
   "metadata": {},
   "source": [
    "Now we can summarize the figure above:"
   ]
  },
  {
   "cell_type": "code",
   "execution_count": 41,
   "metadata": {},
   "outputs": [
    {
     "data": {
      "text/html": [
       "<style  type=\"text/css\" >\n",
       "</style><table id=\"T_8e0180e4_9f48_11ea_b4c9_00bb608c29df\" ><thead>    <tr>        <th class=\"col_heading level0 col0\" >category</th>        <th class=\"col_heading level0 col1\" >brand</th>        <th class=\"col_heading level0 col2\" >avg_price</th>        <th class=\"col_heading level0 col3\" >avg_mileage</th>        <th class=\"col_heading level0 col4\" >unrepair_pct</th>    </tr></thead><tbody>\n",
       "                <tr>\n",
       "                                <td id=\"T_8e0180e4_9f48_11ea_b4c9_00bb608c29dfrow0_col0\" class=\"data row0 col0\" >luxury_brands</td>\n",
       "                        <td id=\"T_8e0180e4_9f48_11ea_b4c9_00bb608c29dfrow0_col1\" class=\"data row0 col1\" >audi</td>\n",
       "                        <td id=\"T_8e0180e4_9f48_11ea_b4c9_00bb608c29dfrow0_col2\" class=\"data row0 col2\" >9336</td>\n",
       "                        <td id=\"T_8e0180e4_9f48_11ea_b4c9_00bb608c29dfrow0_col3\" class=\"data row0 col3\" >129157</td>\n",
       "                        <td id=\"T_8e0180e4_9f48_11ea_b4c9_00bb608c29dfrow0_col4\" class=\"data row0 col4\" >0.0980277</td>\n",
       "            </tr>\n",
       "            <tr>\n",
       "                                <td id=\"T_8e0180e4_9f48_11ea_b4c9_00bb608c29dfrow1_col0\" class=\"data row1 col0\" >luxury_brands</td>\n",
       "                        <td id=\"T_8e0180e4_9f48_11ea_b4c9_00bb608c29dfrow1_col1\" class=\"data row1 col1\" >mercedes_benz</td>\n",
       "                        <td id=\"T_8e0180e4_9f48_11ea_b4c9_00bb608c29dfrow1_col2\" class=\"data row1 col2\" >8628</td>\n",
       "                        <td id=\"T_8e0180e4_9f48_11ea_b4c9_00bb608c29dfrow1_col3\" class=\"data row1 col3\" >130788</td>\n",
       "                        <td id=\"T_8e0180e4_9f48_11ea_b4c9_00bb608c29dfrow1_col4\" class=\"data row1 col4\" >0.0900735</td>\n",
       "            </tr>\n",
       "            <tr>\n",
       "                                <td id=\"T_8e0180e4_9f48_11ea_b4c9_00bb608c29dfrow2_col0\" class=\"data row2 col0\" >luxury_brands</td>\n",
       "                        <td id=\"T_8e0180e4_9f48_11ea_b4c9_00bb608c29dfrow2_col1\" class=\"data row2 col1\" >bmw</td>\n",
       "                        <td id=\"T_8e0180e4_9f48_11ea_b4c9_00bb608c29dfrow2_col2\" class=\"data row2 col2\" >8332</td>\n",
       "                        <td id=\"T_8e0180e4_9f48_11ea_b4c9_00bb608c29dfrow2_col3\" class=\"data row2 col3\" >132572</td>\n",
       "                        <td id=\"T_8e0180e4_9f48_11ea_b4c9_00bb608c29dfrow2_col4\" class=\"data row2 col4\" >0.0926224</td>\n",
       "            </tr>\n",
       "            <tr>\n",
       "                                <td id=\"T_8e0180e4_9f48_11ea_b4c9_00bb608c29dfrow3_col0\" class=\"data row3 col0\" >normal brands</td>\n",
       "                        <td id=\"T_8e0180e4_9f48_11ea_b4c9_00bb608c29dfrow3_col1\" class=\"data row3 col1\" >volkswagen</td>\n",
       "                        <td id=\"T_8e0180e4_9f48_11ea_b4c9_00bb608c29dfrow3_col2\" class=\"data row3 col2\" >5402</td>\n",
       "                        <td id=\"T_8e0180e4_9f48_11ea_b4c9_00bb608c29dfrow3_col3\" class=\"data row3 col3\" >128707</td>\n",
       "                        <td id=\"T_8e0180e4_9f48_11ea_b4c9_00bb608c29dfrow3_col4\" class=\"data row3 col4\" >0.107193</td>\n",
       "            </tr>\n",
       "            <tr>\n",
       "                                <td id=\"T_8e0180e4_9f48_11ea_b4c9_00bb608c29dfrow4_col0\" class=\"data row4 col0\" >normal brands</td>\n",
       "                        <td id=\"T_8e0180e4_9f48_11ea_b4c9_00bb608c29dfrow4_col1\" class=\"data row4 col1\" >seat</td>\n",
       "                        <td id=\"T_8e0180e4_9f48_11ea_b4c9_00bb608c29dfrow4_col2\" class=\"data row4 col2\" >4397</td>\n",
       "                        <td id=\"T_8e0180e4_9f48_11ea_b4c9_00bb608c29dfrow4_col3\" class=\"data row4 col3\" >121131</td>\n",
       "                        <td id=\"T_8e0180e4_9f48_11ea_b4c9_00bb608c29dfrow4_col4\" class=\"data row4 col4\" >0.120112</td>\n",
       "            </tr>\n",
       "            <tr>\n",
       "                                <td id=\"T_8e0180e4_9f48_11ea_b4c9_00bb608c29dfrow5_col0\" class=\"data row5 col0\" >normal brands</td>\n",
       "                        <td id=\"T_8e0180e4_9f48_11ea_b4c9_00bb608c29dfrow5_col1\" class=\"data row5 col1\" >ford</td>\n",
       "                        <td id=\"T_8e0180e4_9f48_11ea_b4c9_00bb608c29dfrow5_col2\" class=\"data row5 col2\" >3749</td>\n",
       "                        <td id=\"T_8e0180e4_9f48_11ea_b4c9_00bb608c29dfrow5_col3\" class=\"data row5 col3\" >124266</td>\n",
       "                        <td id=\"T_8e0180e4_9f48_11ea_b4c9_00bb608c29dfrow5_col4\" class=\"data row5 col4\" >0.159047</td>\n",
       "            </tr>\n",
       "            <tr>\n",
       "                                <td id=\"T_8e0180e4_9f48_11ea_b4c9_00bb608c29dfrow6_col0\" class=\"data row6 col0\" >normal brands</td>\n",
       "                        <td id=\"T_8e0180e4_9f48_11ea_b4c9_00bb608c29dfrow6_col1\" class=\"data row6 col1\" >peugeot</td>\n",
       "                        <td id=\"T_8e0180e4_9f48_11ea_b4c9_00bb608c29dfrow6_col2\" class=\"data row6 col2\" >3094</td>\n",
       "                        <td id=\"T_8e0180e4_9f48_11ea_b4c9_00bb608c29dfrow6_col3\" class=\"data row6 col3\" >127153</td>\n",
       "                        <td id=\"T_8e0180e4_9f48_11ea_b4c9_00bb608c29dfrow6_col4\" class=\"data row6 col4\" >0.160377</td>\n",
       "            </tr>\n",
       "            <tr>\n",
       "                                <td id=\"T_8e0180e4_9f48_11ea_b4c9_00bb608c29dfrow7_col0\" class=\"data row7 col0\" >low_price_brands</td>\n",
       "                        <td id=\"T_8e0180e4_9f48_11ea_b4c9_00bb608c29dfrow7_col1\" class=\"data row7 col1\" >opel</td>\n",
       "                        <td id=\"T_8e0180e4_9f48_11ea_b4c9_00bb608c29dfrow7_col2\" class=\"data row7 col2\" >2975</td>\n",
       "                        <td id=\"T_8e0180e4_9f48_11ea_b4c9_00bb608c29dfrow7_col3\" class=\"data row7 col3\" >129310</td>\n",
       "                        <td id=\"T_8e0180e4_9f48_11ea_b4c9_00bb608c29dfrow7_col4\" class=\"data row7 col4\" >0.148381</td>\n",
       "            </tr>\n",
       "            <tr>\n",
       "                                <td id=\"T_8e0180e4_9f48_11ea_b4c9_00bb608c29dfrow8_col0\" class=\"data row8 col0\" >low_price_brands</td>\n",
       "                        <td id=\"T_8e0180e4_9f48_11ea_b4c9_00bb608c29dfrow8_col1\" class=\"data row8 col1\" >fiat</td>\n",
       "                        <td id=\"T_8e0180e4_9f48_11ea_b4c9_00bb608c29dfrow8_col2\" class=\"data row8 col2\" >2813</td>\n",
       "                        <td id=\"T_8e0180e4_9f48_11ea_b4c9_00bb608c29dfrow8_col3\" class=\"data row8 col3\" >117121</td>\n",
       "                        <td id=\"T_8e0180e4_9f48_11ea_b4c9_00bb608c29dfrow8_col4\" class=\"data row8 col4\" >0.146394</td>\n",
       "            </tr>\n",
       "            <tr>\n",
       "                                <td id=\"T_8e0180e4_9f48_11ea_b4c9_00bb608c29dfrow9_col0\" class=\"data row9 col0\" >low_price_brands</td>\n",
       "                        <td id=\"T_8e0180e4_9f48_11ea_b4c9_00bb608c29dfrow9_col1\" class=\"data row9 col1\" >renault</td>\n",
       "                        <td id=\"T_8e0180e4_9f48_11ea_b4c9_00bb608c29dfrow9_col2\" class=\"data row9 col2\" >2474</td>\n",
       "                        <td id=\"T_8e0180e4_9f48_11ea_b4c9_00bb608c29dfrow9_col3\" class=\"data row9 col3\" >128071</td>\n",
       "                        <td id=\"T_8e0180e4_9f48_11ea_b4c9_00bb608c29dfrow9_col4\" class=\"data row9 col4\" >0.162069</td>\n",
       "            </tr>\n",
       "    </tbody></table>"
      ],
      "text/plain": [
       "<pandas.io.formats.style.Styler at 0x168c9615308>"
      ]
     },
     "execution_count": 41,
     "metadata": {},
     "output_type": "execute_result"
    }
   ],
   "source": [
    "total_df = pd.merge(df_price,df_mileage, how='left', on='brand')\n",
    "total_df = pd.merge(total_df, unrepair_damage_brands_prob, how='left', on='brand')\n",
    "\n",
    "total_df = total_df[['category','brand', 'avg_price', 'avg_mileage', 'unrepair_pct']]\n",
    "total_df.style.hide_index()"
   ]
  },
  {
   "cell_type": "markdown",
   "metadata": {},
   "source": [
    "### 5.Insights "
   ]
  },
  {
   "cell_type": "markdown",
   "metadata": {},
   "source": [
    "From the data, we can see the followings: \n",
    "- Among the luxury brands, Audi has the highest average price and the lowest average price, which make sense because these 2 factors should have negative relationship. However, the percentage of non-repair damage for Audi is also significantly higher than the other luxury 2 brands, wich can be caused of differnt reasons e.g expensive in maintenance.  \n",
    "<br>\n",
    "<br>\n",
    "- For normal brands, We can see that the price varied but the avg_mileage are similar. Volkswagen has the highest price but at the same time the lowest percentage of unrepaired damage. One of the possible reasons is, they have better support than the other manufacturers in Germany. \n",
    "<br>\n",
    "<br>\n",
    "- For low_price_brands, Opel and Fiat are similar in both price and percentage of non-repaired damages, however Opel has significantly higher mileage than Fiat. Meanwhile Renault has a significantly lower price but a higher percentage of non-repaired damange. "
   ]
  },
  {
   "cell_type": "markdown",
   "metadata": {},
   "source": [
    "### 6.Conclusion"
   ]
  },
  {
   "cell_type": "markdown",
   "metadata": {},
   "source": [
    "The information above provides only a preliminary analysis in selecting car brands. To further analysis, we need also other information such as the detail information of damages, the accident history, repairment and maintenance fee information etc.\n",
    "\n",
    "With those information we can apply advanced models to predict the total cost of ownership. Meanwhile it is also possible to compare not only by brands, but also compare by models among different brands."
   ]
  }
 ],
 "metadata": {
  "kernelspec": {
   "display_name": "Python 3",
   "language": "python",
   "name": "python3"
  },
  "language_info": {
   "codemirror_mode": {
    "name": "ipython",
    "version": 3
   },
   "file_extension": ".py",
   "mimetype": "text/x-python",
   "name": "python",
   "nbconvert_exporter": "python",
   "pygments_lexer": "ipython3",
   "version": "3.7.4"
  }
 },
 "nbformat": 4,
 "nbformat_minor": 2
}
